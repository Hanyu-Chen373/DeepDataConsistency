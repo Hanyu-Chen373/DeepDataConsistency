{
 "cells": [
  {
   "cell_type": "code",
   "execution_count": null,
   "metadata": {},
   "outputs": [],
   "source": [
    "import os\n",
    "import numpy as np\n",
    "from PIL import Image\n",
    "from datasets import Dataset, load_dataset\n",
    "\n",
    "# Define the folder path that contains the images\n",
    "data_folder = \"./celeba_hq_256/\"\n",
    "\n",
    "# Create dataset\n",
    "data_files = [file for file in os.listdir(data_folder) if file.endswith(\".jpg\")]\n",
    "data_files.sort(key=lambda x: int(x[:-4]))\n",
    "\n",
    "dataset_dict = {\n",
    "    \"image\": [],\n",
    "}\n",
    "\n",
    "for file in data_files:\n",
    "    image_path = os.path.join(data_folder, file)\n",
    "    image_data = Image.open(image_path)\n",
    "    dataset_dict[\"image\"].append(image_data.copy())\n",
    "    image_data.close()\n",
    "\n",
    "train_dataset = Dataset.from_dict(dataset_dict)\n",
    "train_dataset.save_to_disk(\"/celeba_dataset\")\n",
    "\n"
   ]
  },
  {
   "cell_type": "code",
   "execution_count": null,
   "metadata": {},
   "outputs": [],
   "source": []
  }
 ],
 "metadata": {
  "kernelspec": {
   "display_name": "sdxl",
   "language": "python",
   "name": "python3"
  },
  "language_info": {
   "codemirror_mode": {
    "name": "ipython",
    "version": 3
   },
   "file_extension": ".py",
   "mimetype": "text/x-python",
   "name": "python",
   "nbconvert_exporter": "python",
   "pygments_lexer": "ipython3",
   "version": "3.8.16"
  },
  "orig_nbformat": 4
 },
 "nbformat": 4,
 "nbformat_minor": 2
}
